{
 "cells": [
  {
   "cell_type": "code",
   "execution_count": 6,
   "metadata": {},
   "outputs": [],
   "source": [
    "api_blocks = []\n",
    "\n",
    "block_begin = False\n",
    "cache = ''\n",
    "for line in open('./public.md', 'r', encoding='utf-8'):\n",
    "    if line.startswith('## '):\n",
    "        block_begin = True\n",
    "        \n",
    "        if cache.__len__() > 0:\n",
    "            api_blocks.append(cache)\n",
    "            cache = ''\n",
    "    \n",
    "    if block_begin:\n",
    "        cache += line\n",
    "\n",
    "if cache.__len__() > 0:\n",
    "    api_blocks.append(cache)\n",
    "        "
   ]
  },
  {
   "cell_type": "code",
   "execution_count": 32,
   "metadata": {},
   "outputs": [],
   "source": [
    "import re\n",
    "\n",
    "# 读取 Markdown 文件内容\n",
    "def read_markdown_file(file_path):\n",
    "    with open(file_path, 'r', encoding='utf-8') as file:\n",
    "        return file.read()\n",
    "\n",
    "# 解析 Markdown 内容\n",
    "def parse_markdown(content):\n",
    "    lines = content.split('\\n')\n",
    "    api_name = ''\n",
    "    response_interface = []\n",
    "    is_response_section = False\n",
    "    for line in lines:\n",
    "        line = line.strip()\n",
    "\n",
    "        # 提取 API 名称\n",
    "        if line.startswith('## `'):\n",
    "            api_name = re.search(r'`([^`]+)`', line).group(1)\n",
    "\n",
    "        # 检查是否进入响应数据部分\n",
    "        if line == '### 响应数据':\n",
    "            is_response_section = True\n",
    "            continue\n",
    "\n",
    "        # 解析响应数据表格\n",
    "        if is_response_section and line.startswith('|'):\n",
    "            parts = [part.strip() for part in line.split('|') if part.strip()]\n",
    "            if len(parts) >= 3:\n",
    "                field, type_, description = parts[0], parts[1], parts[2]\n",
    "                field = field.strip('`')\n",
    "                if 'number' in type_ or 'int' in type_:\n",
    "                    type_ = 'number'\n",
    "                elif 'message' in type_:\n",
    "                    type_ = 'string | Lagrange.Send.Default[]'\n",
    "                elif 'object' in type_:\n",
    "                    if field == 'sender':\n",
    "                        type_ = 'Sender'\n",
    "                    else:\n",
    "                        type_ = 'any'\n",
    "                response_interface.append(f'    // {description.strip()}\\n    {field}: {type_};\\n')\n",
    "\n",
    "    response_interface = ''.join(response_interface[2:])\n",
    "    # 生成 TypeScript 接口\n",
    "    interface_name = f'{snake_to_pascal(api_name)}Response'\n",
    "    interface_content = f'export interface {interface_name} {{\\n{response_interface}}}\\n'\n",
    "\n",
    "    return api_name, interface_content\n",
    "\n",
    "def snake_to_pascal(snake_case_str):\n",
    "    # 使用正则表达式将下划线分隔的单词拆分，并将每个单词的首字母大写\n",
    "    pascal_case_str = ''.join(word.capitalize() for word in snake_case_str.split('_'))\n",
    "    return pascal_case_str\n",
    "\n",
    "# 将生成的 TypeScript 接口写入文件\n",
    "def write_typescript_file(file_path, content):\n",
    "    with open(file_path, 'w', encoding='utf-8') as file:\n",
    "        file.write(content)"
   ]
  },
  {
   "cell_type": "code",
   "execution_count": 33,
   "metadata": {},
   "outputs": [
    {
     "name": "stdout",
     "output_type": "stream",
     "text": [
      "API Name: get_msg\n",
      "TypeScript Interface:\n",
      "export interface GetMsgResponse {\n",
      "    // 发送时间\n",
      "    time: number;\n",
      "    // 消息类型，同 [消息事件](../event/message.md)\n",
      "    message_type: string;\n",
      "    // 消息 ID\n",
      "    message_id: number;\n",
      "    // 消息真实 ID\n",
      "    real_id: number;\n",
      "    // 发送人信息，同 [消息事件](../event/message.md)\n",
      "    sender: Sender;\n",
      "    // 消息内容\n",
      "    message: string | Lagrange.Send.Default[];\n",
      "}\n",
      "\n"
     ]
    }
   ],
   "source": [
    "api_name, response_interface = parse_markdown(api_blocks[4])\n",
    "\n",
    "print(f'API Name: {api_name}')\n",
    "print(f'TypeScript Interface:\\n{response_interface}')"
   ]
  },
  {
   "cell_type": "code",
   "execution_count": 35,
   "metadata": {},
   "outputs": [
    {
     "data": {
      "text/plain": [
       "6300"
      ]
     },
     "execution_count": 35,
     "metadata": {},
     "output_type": "execute_result"
    }
   ],
   "source": [
    "type_string = ''\n",
    "\n",
    "for api_string in api_blocks:\n",
    "    api_name, response_interface = parse_markdown(api_string)\n",
    "    comment = '// response type for ' + api_name + '\\n'\n",
    "    type_string += comment\n",
    "    type_string += response_interface + '\\n'\n",
    "\n",
    "open('type.ts', 'w', encoding='utf-8').write(type_string)"
   ]
  }
 ],
 "metadata": {
  "kernelspec": {
   "display_name": "base",
   "language": "python",
   "name": "python3"
  },
  "language_info": {
   "codemirror_mode": {
    "name": "ipython",
    "version": 3
   },
   "file_extension": ".py",
   "mimetype": "text/x-python",
   "name": "python",
   "nbconvert_exporter": "python",
   "pygments_lexer": "ipython3",
   "version": "3.11.5"
  }
 },
 "nbformat": 4,
 "nbformat_minor": 2
}
